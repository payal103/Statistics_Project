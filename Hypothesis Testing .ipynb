{
 "cells": [
  {
   "cell_type": "markdown",
   "id": "5e13675e-5f43-43b6-b7fe-e20d17747b2b",
   "metadata": {},
   "source": [
    " Hypothesis Formulation & Testing"
   ]
  },
  {
   "cell_type": "markdown",
   "id": "34d5346a-2218-434c-866a-bd0ee14a84cf",
   "metadata": {},
   "source": [
    "🧪 Step 1: Formulate a Hypothesis\n",
    "Let’s say we want to test:\n",
    "\n",
    "🎯 Hypothesis Example 1:\n",
    "H₀ (Null): The average revenue of Netflix content is $400M\n",
    "H₁ (Alternate): The average revenue is not $400M\n",
    "\n",
    "We'll use a one-sample t-test.\n",
    "\n"
   ]
  },
  {
   "cell_type": "code",
   "execution_count": 7,
   "id": "79eb99b4-e5e1-4383-ad0e-4a2d6887c438",
   "metadata": {},
   "outputs": [
    {
     "name": "stdout",
     "output_type": "stream",
     "text": [
      "t-statistic: 5.7908\n",
      "p-value: 0.0000\n",
      "Reject the null hypothesis: average revenue is significantly different from 400M.\n"
     ]
    }
   ],
   "source": [
    "import pandas as pd\n",
    "import numpy as np\n",
    "import matplotlib.pyplot as plt\n",
    "import seaborn as sns\n",
    "from sklearn.preprocessing import LabelEncoder\n",
    "\n",
    "\n",
    "# Load the dataset\n",
    "df = pd.read_csv('netflix_movies_series_final.csv')\n",
    "\n",
    "from scipy.stats import ttest_1samp\n",
    "\n",
    "# Remove missing values\n",
    "revenue = df['Revenue (Million $)'].dropna()\n",
    "\n",
    "# Hypothesized mean\n",
    "mu_0 = 400\n",
    "\n",
    "# Perform t-test\n",
    "t_stat, p_value = ttest_1samp(revenue, mu_0)\n",
    "\n",
    "print(f\"t-statistic: {t_stat:.4f}\")\n",
    "print(f\"p-value: {p_value:.4f}\")\n",
    "\n",
    "# Interpretation\n",
    "if p_value < 0.05:\n",
    "    print(\"Reject the null hypothesis: average revenue is significantly different from 400M.\")\n",
    "else:\n",
    "    print(\"Fail to reject the null hypothesis: no significant difference from 400M.\")\n"
   ]
  },
  {
   "cell_type": "markdown",
   "id": "0bce0315-84ce-413b-8659-f539202d17ab",
   "metadata": {},
   "source": [
    "Two-Sample t-test: High vs Low IMDb Rating Movies on Revenue"
   ]
  },
  {
   "cell_type": "code",
   "execution_count": 14,
   "id": "82bcacff-b73b-4a28-8cad-342ecd4e9d91",
   "metadata": {},
   "outputs": [
    {
     "name": "stdout",
     "output_type": "stream",
     "text": [
      "t-statistic: -1.4912\n",
      "p-value: 0.1359\n",
      "Fail to reject H₀: No significant difference in revenue.\n"
     ]
    }
   ],
   "source": [
    "from scipy.stats import ttest_ind\n",
    "\n",
    "# Split groups based on IMDb Rating\n",
    "group1 = df[df['IMDB Rating'] > 7]['Revenue (Million $)'].dropna()\n",
    "group2 = df[df['IMDB Rating'] <= 7]['Revenue (Million $)'].dropna()\n",
    "\n",
    "# Perform two-sample t-test\n",
    "t_stat, p_value = ttest_ind(group1, group2, equal_var=False)\n",
    "\n",
    "print(f\"t-statistic: {t_stat:.4f}\")\n",
    "print(f\"p-value: {p_value:.4f}\")\n",
    "\n",
    "if p_value < 0.05:\n",
    "    print(\"Reject H₀: Significant difference in revenue between high and low IMDb rating movies.\")\n",
    "else:\n",
    "    print(\"Fail to reject H₀: No significant difference in revenue.\")\n"
   ]
  },
  {
   "cell_type": "markdown",
   "id": "fe46c71a-ed48-466f-92fb-675a354907c1",
   "metadata": {},
   "source": [
    "Z-test (Optional if population std is known)"
   ]
  },
  {
   "cell_type": "code",
   "execution_count": 17,
   "id": "e010e08d-2bd2-4679-a019-d8e9cb0eee4f",
   "metadata": {},
   "outputs": [
    {
     "name": "stdout",
     "output_type": "stream",
     "text": [
      "z-statistic: 0.2476\n",
      "p-value: 0.8045\n"
     ]
    }
   ],
   "source": [
    "from statsmodels.stats.weightstats import ztest\n",
    "\n",
    "# Example: Test if mean Watch Time ≠ 120 mins\n",
    "watch_time = df['Avg User Watch Time (Minutes)'].dropna()\n",
    "\n",
    "z_stat, p_value = ztest(watch_time, value=120)\n",
    "print(f\"z-statistic: {z_stat:.4f}\")\n",
    "print(f\"p-value: {p_value:.4f}\")\n"
   ]
  },
  {
   "cell_type": "code",
   "execution_count": null,
   "id": "6951d79a-1bc9-4b6b-a824-7b736aeed230",
   "metadata": {},
   "outputs": [],
   "source": []
  }
 ],
 "metadata": {
  "kernelspec": {
   "display_name": "Python 3 (ipykernel)",
   "language": "python",
   "name": "python3"
  },
  "language_info": {
   "codemirror_mode": {
    "name": "ipython",
    "version": 3
   },
   "file_extension": ".py",
   "mimetype": "text/x-python",
   "name": "python",
   "nbconvert_exporter": "python",
   "pygments_lexer": "ipython3",
   "version": "3.12.7"
  }
 },
 "nbformat": 4,
 "nbformat_minor": 5
}
